{
 "cells": [
  {
   "cell_type": "markdown",
   "id": "b9296bd8",
   "metadata": {},
   "source": [
    "# Markdown\n",
    "\n",
    "Write your own MD content form slide 49"
   ]
  },
  {
   "cell_type": "markdown",
   "id": "8e52547f",
   "metadata": {},
   "source": [
    "# 1. Hello python\n",
    "name = \"bin\"\n",
    "goals = ['learn ML','learn DL','deeply learn DL']\n",
    "\n",
    "print(\"Hello,\",name,\"!\")\n",
    "print(\"Hello,\"+ name +\"!\")\n",
    "\n",
    "# for(1 starting point; 2 end condition; 4 next step;)\n",
    "{3 executing code;\n",
    "#\n",
    "\n",
    "\n",
    "\n",
    "}\n",
    "\n",
    "for g in goals:\n",
    "    print(\"-\", g)\n",
    "\n",
    "# if - elif - else\n",
    "if \"learn ML\" in goals:\n",
    "    print(\"Let's learn ML!\")"
   ]
  },
  {
   "cell_type": "markdown",
   "id": "345c9cc2",
   "metadata": {},
   "source": []
  }
 ],
 "metadata": {
  "language_info": {
   "name": "python"
  }
 },
 "nbformat": 4,
 "nbformat_minor": 5
}
